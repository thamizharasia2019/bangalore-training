{
 "cells": [
  {
   "cell_type": "code",
   "execution_count": null,
   "metadata": {},
   "outputs": [
    {
     "name": "stdout",
     "output_type": "stream",
     "text": [
      "Requirement already satisfied: facenet_pytorch in /home/user/anaconda3/lib/python3.7/site-packages (0.3.1)\n",
      "Requirement already satisfied: numpy in /home/user/anaconda3/lib/python3.7/site-packages (from facenet_pytorch) (1.16.5)\n",
      "Requirement already satisfied: requests in /home/user/anaconda3/lib/python3.7/site-packages (from facenet_pytorch) (2.22.0)\n",
      "Requirement already satisfied: idna<2.9,>=2.5 in /home/user/anaconda3/lib/python3.7/site-packages (from requests->facenet_pytorch) (2.8)\n",
      "Requirement already satisfied: certifi>=2017.4.17 in /home/user/anaconda3/lib/python3.7/site-packages (from requests->facenet_pytorch) (2019.6.16)\n",
      "Requirement already satisfied: urllib3!=1.25.0,!=1.25.1,<1.26,>=1.21.1 in /home/user/anaconda3/lib/python3.7/site-packages (from requests->facenet_pytorch) (1.24.2)\n",
      "Requirement already satisfied: chardet<3.1.0,>=3.0.2 in /home/user/anaconda3/lib/python3.7/site-packages (from requests->facenet_pytorch) (3.0.4)\n",
      "Collecting torch\n",
      "\u001b[?25l  Downloading https://files.pythonhosted.org/packages/05/65/5248be50c55ab7429dd5c11f5e2f9f5865606b80e854ca63139ad1a584f2/torch-1.2.0-cp37-cp37m-manylinux1_x86_64.whl (748.9MB)\n",
      "\u001b[K     |████████████████████████        | 564.0MB 12.2MB/s eta 0:00:16    |▊                               | 16.9MB 12.1MB/s eta 0:01:01     |█▌                              | 34.9MB 14.9MB/s eta 0:00:48     |█▋                              | 37.9MB 14.9MB/s eta 0:00:48     |██▍                             | 56.1MB 11.6MB/s eta 0:01:00     |██▋                             | 61.9MB 11.6MB/s eta 0:01:00     |████                            | 94.9MB 12.4MB/s eta 0:00:53     |████                            | 95.4MB 12.4MB/s eta 0:00:53     |████▎                           | 101.3MB 12.4MB/s eta 0:00:53     |████▌                           | 106.6MB 10.2MB/s eta 0:01:04     |████▋                           | 108.1MB 10.2MB/s eta 0:01:03     |█████                           | 116.7MB 12.1MB/s eta 0:00:53     |█████▏                          | 120.1MB 12.1MB/s eta 0:00:53     |██████▍                         | 149.1MB 11.1MB/s eta 0:00:55     |███████▏                        | 167.1MB 11.9MB/s eta 0:00:50     |███████▉                        | 182.5MB 6.1MB/s eta 0:01:34     |████████▏                       | 191.0MB 9.8MB/s eta 0:00:57     |██████████▊                     | 251.8MB 10.7MB/s eta 0:00:47     |███████████▌                    | 268.3MB 8.4MB/s eta 0:00:58     |███████████▋                    | 270.5MB 8.4MB/s eta 0:00:58     |████████████▏                   | 283.6MB 6.1MB/s eta 0:01:16     |████████████▉                   | 301.6MB 6.4MB/s eta 0:01:10     |█████████████                   | 305.0MB 9.7MB/s eta 0:00:46     |█████████████                   | 305.6MB 9.7MB/s eta 0:00:46     |█████████████▎                  | 310.9MB 9.7MB/s eta 0:00:46     |█████████████▊                  | 321.2MB 6.9MB/s eta 0:01:02     |██████████████▎                 | 333.6MB 8.1MB/s eta 0:00:52     |██████████████▍                 | 336.6MB 8.9MB/s eta 0:00:47     |███████████████▍                | 361.1MB 9.6MB/s eta 0:00:41     |███████████████▉                | 369.8MB 6.4MB/s eta 0:01:00     |█████████████████▊              | 413.5MB 10.3MB/s eta 0:00:33     |█████████████████▊              | 415.7MB 10.3MB/s eta 0:00:33     |██████████████████              | 420.9MB 10.3MB/s eta 0:00:32     |██████████████████▍             | 431.0MB 9.8MB/s eta 0:00:33     |██████████████████▌             | 434.2MB 10.8MB/s eta 0:00:30     |███████████████████             | 445.2MB 6.7MB/s eta 0:00:46     |███████████████████▋            | 458.7MB 9.3MB/s eta 0:00:32     |████████████████████            | 465.9MB 9.3MB/s eta 0:00:31[K     |████████████████████            | 467.6MB 222kB/s eta 0:21:06     |████████████████████▌           | 480.2MB 34kB/s eta 2:10:30     |█████████████████████           | 491.7MB 12.8MB/s eta 0:00:21     |█████████████████████▏          | 494.7MB 12.8MB/s eta 0:00:20     |█████████████████████▌          | 502.8MB 7.4MB/s eta 0:00:34:00:22     |██████████████████████▊         | 532.8MB 11.9MB/s eta 0:00:19     |███████████████████████▏        | 542.3MB 10.8MB/s eta 0:00:20     |███████████████████████▏        | 542.9MB 10.8MB/s eta 0:00:20     |███████████████████████▋        | 552.0MB 10.6MB/s eta 0:00:19     |███████████████████████▉        | 556.8MB 10.6MB/s eta 0:00:19     |███████████████████████▉        | 557.4MB 10.6MB/s eta 0:00:19     |███████████████████████▉        | 558.0MB 10.6MB/s eta 0:00:19"
     ]
    }
   ],
   "source": [
    "!pip install facenet_pytorch\n",
    "!pip install torch\n",
    "from facenet_pytorch import MTCNN, InceptionResnetV1\n",
    "import torch\n",
    "from torch.utils.data import DataLoader\n",
    "from torchvision import datasets\n",
    "import numpy as np\n",
    "import pandas as pd\n",
    "import os"
   ]
  },
  {
   "cell_type": "code",
   "execution_count": null,
   "metadata": {},
   "outputs": [],
   "source": [
    "workers = 0 if os.name == 'nt' else 4"
   ]
  }
 ],
 "metadata": {
  "kernelspec": {
   "display_name": "Python 3",
   "language": "python",
   "name": "python3"
  },
  "language_info": {
   "codemirror_mode": {
    "name": "ipython",
    "version": 3
   },
   "file_extension": ".py",
   "mimetype": "text/x-python",
   "name": "python",
   "nbconvert_exporter": "python",
   "pygments_lexer": "ipython3",
   "version": "3.7.3"
  }
 },
 "nbformat": 4,
 "nbformat_minor": 2
}
