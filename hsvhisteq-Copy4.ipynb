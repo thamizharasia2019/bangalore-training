{
 "cells": [
  {
   "cell_type": "code",
   "execution_count": 1,
   "metadata": {
    "scrolled": true
   },
   "outputs": [
    {
     "data": {
      "text/plain": [
       "True"
      ]
     },
     "execution_count": 1,
     "metadata": {},
     "output_type": "execute_result"
    }
   ],
   "source": [
    "import cv2\n",
    "import numpy as np\n",
    "from matplotlib import pyplot as plt\n",
    "# Load the image\n",
    "inputfile=\"img2597810ANPR_L00.jpg\"\n",
    "outputfile=\"out.jpg\"\n",
    "path1 = \"/home/user/Downloads/DAY2/SET7A1/\"\n",
    "img = cv2.imread(path1+inputfile)\n",
    "\n",
    "background= cv2.imread(\"back.jpg\")\n",
    "\n",
    "per=50\n",
    "width= int( (img.shape[1]*per) / 100)\n",
    "height= int ((img.shape[0]*per) /100 )\n",
    "dim=(width, height)\n",
    "img = cv2.resize(img,dim, interpolation = cv2.INTER_AREA)\n",
    "image=img\n",
    "per1=50\n",
    "width1= int( (background.shape[1]*per) / 100)\n",
    "height1= int ((background.shape[0]*per) /100 )\n",
    "dim1=(width1, height1)\n",
    "background = cv2.resize(background,dim1, interpolation = cv2.INTER_AREA)\n",
    "img = cv2.cvtColor(img, cv2.COLOR_BGR2RGB)\n",
    "image=img\n",
    "\n",
    "background = cv2.cvtColor(background, cv2.COLOR_BGR2RGB)\n",
    "img = cv2.cvtColor(img, cv2.COLOR_RGB2HSV)\n",
    "background= cv2.cvtColor(background, cv2.COLOR_RGB2HSV)\n",
    "H, S, V = cv2.split(img)\n",
    "BH, BS, BV= cv2.split(background)\n",
    "alpha1 = 0.2 ; beta1 = 0.8 ; thetas= 0.8; thetah= 0.8\n",
    "s=V\n",
    "import sys\n",
    "V = np.float32(V)/255\n",
    "BV= np.float32(BV)/255\n",
    "S = np.float32(S)/255\n",
    "BS= np.float32(BS)/255\n",
    "H = np.float32(H)/255\n",
    "BH= np.float32(BH)/255\n",
    "s= V.copy()\n",
    "\n",
    "for i in range(H.shape[0]):\n",
    "    for j in range(H.shape[1]):\n",
    "        try:\n",
    "            x= V[i,j]/ BV[i,j]\n",
    "        except ZeroDivisionError:\n",
    "            x = 0\n",
    "        \n",
    "        if ( (alpha1 <= x <= beta1) and (abs(S[i,j]-BS[i,j])<= thetas) and (abs(H[i,j]-BH[i,j])<=thetah)) :\n",
    "            s[i,j]=1\n",
    "        else:\n",
    "            s[i,j]=0\n",
    "            \n",
    "s=s*255\n",
    "\n",
    "s = np.array(s,dtype=np.uint8)\n",
    "median = cv2.medianBlur(s, 5)\n",
    "#median =s\n",
    "kernel = np.ones((5, 5), np.uint8)\n",
    "closing = cv2.morphologyEx(median, cv2.MORPH_CLOSE, kernel)\n",
    "opening = cv2.morphologyEx(closing, cv2.MORPH_OPEN, kernel)\n",
    "\n",
    "#opening = s\n",
    "opening = np.array(opening,dtype=np.uint8)\n",
    "\n",
    "result = image.copy()\n",
    "height=result.shape[0]\n",
    "width=result.shape[1]\n",
    "blank_image = np.zeros((height,width,3), np.uint8)\n",
    "\n",
    "blank_image[opening!=0] = image[opening!=0]\n",
    "#blank_image1=np.uint8(np.double(blank_image)*1.35+25 )\n",
    "blank_image1=np.uint8(np.double(blank_image)**1.25 + 25)\n",
    "\n",
    "claheimg = np.zeros((height,width,3), np.uint8)\n",
    "claheimg[opening==0]=image[opening==0]\n",
    "clahe = cv2.createCLAHE(clipLimit=2.0,tileGridSize=(3, 3))\n",
    "\n",
    "claheimg[:,:,0] = clahe.apply(blank_image1[:,:,0])\n",
    "claheimg[:,:,1] = clahe.apply(blank_image1[:,:,1])\n",
    "claheimg[:,:,2] = clahe.apply(blank_image1[:,:,2])\n",
    "\n",
    "\n",
    "claheimg[opening==0]=image[opening==0]\n",
    "\n",
    "cv2.imwrite(path1+outputfile,claheimg)"
   ]
  },
  {
   "cell_type": "code",
   "execution_count": null,
   "metadata": {},
   "outputs": [],
   "source": []
  }
 ],
 "metadata": {
  "kernelspec": {
   "display_name": "Python 3",
   "language": "python",
   "name": "python3"
  },
  "language_info": {
   "codemirror_mode": {
    "name": "ipython",
    "version": 3
   },
   "file_extension": ".py",
   "mimetype": "text/x-python",
   "name": "python",
   "nbconvert_exporter": "python",
   "pygments_lexer": "ipython3",
   "version": "3.7.3"
  }
 },
 "nbformat": 4,
 "nbformat_minor": 2
}
