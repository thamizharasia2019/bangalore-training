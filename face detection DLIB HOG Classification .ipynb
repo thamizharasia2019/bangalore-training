{
 "cells": [
  {
   "cell_type": "code",
   "execution_count": 1,
   "metadata": {},
   "outputs": [],
   "source": [
    "from imutils import paths\n",
    "import numpy as np\n",
    "import argparse\n",
    "import imutils\n",
    "import pickle\n",
    "import dlib\n",
    "import cv2\n",
    "import os\n",
    "protoPath =  \"./face_detection_model/deploy.prototxt\"\n",
    "modelPath = \"./face_detection_model/res10_300x300_ssd_iter_140000.caffemodel\""
   ]
  },
  {
   "cell_type": "code",
   "execution_count": 2,
   "metadata": {},
   "outputs": [],
   "source": [
    "#detector = cv2.dnn.readNetFromCaffe(protoPath, modelPath)\n",
    "detector = dlib.get_frontal_face_detector()"
   ]
  },
  {
   "cell_type": "code",
   "execution_count": 3,
   "metadata": {},
   "outputs": [],
   "source": [
    "embedder = cv2.dnn.readNetFromTorch(\"openface_nn4.small2.v1.t7\")\n",
    "\n"
   ]
  },
  {
   "cell_type": "code",
   "execution_count": 4,
   "metadata": {},
   "outputs": [],
   "source": [
    "imagePaths = list(paths.list_images(\"./dataset\"))\n",
    " \n",
    "# initialize our lists of extracted facial embeddings and\n",
    "# corresponding people names\n",
    "knownEmbeddings = []\n",
    "knownNames = []\n",
    " \n",
    "# initialize the total number of faces processed\n",
    "total = 0"
   ]
  },
  {
   "cell_type": "code",
   "execution_count": 5,
   "metadata": {},
   "outputs": [
    {
     "name": "stdout",
     "output_type": "stream",
     "text": [
      "['./dataset/trisha/00005.png', './dataset/trisha/00003.png', './dataset/trisha/00001.png', './dataset/trisha/00002.png', './dataset/trisha/00000.png', './dataset/trisha/00004.png', './dataset/adrian/00003.jpg', './dataset/adrian/00001.png', './dataset/adrian/00004.jpg', './dataset/adrian/00000.png', './dataset/adrian/00005.jpg', './dataset/adrian/00002.jpg', './dataset/unknown/claire_dearing.jpg', './dataset/unknown/ellie_sattler.jpg', './dataset/unknown/john_hammond.jpg', './dataset/unknown/own_grady.jpg', './dataset/unknown/alan_grant.jpg', './dataset/unknown/ian_malcolm.jpg']\n"
     ]
    }
   ],
   "source": [
    "print(imagePaths)"
   ]
  },
  {
   "cell_type": "code",
   "execution_count": null,
   "metadata": {},
   "outputs": [],
   "source": []
  },
  {
   "cell_type": "code",
   "execution_count": 6,
   "metadata": {},
   "outputs": [
    {
     "name": "stdout",
     "output_type": "stream",
     "text": [
      "[INFO] processing image 1/18\n",
      "[INFO] processing image 2/18\n",
      "[INFO] processing image 3/18\n",
      "[INFO] processing image 4/18\n",
      "[INFO] processing image 5/18\n",
      "[INFO] processing image 6/18\n",
      "[INFO] processing image 7/18\n",
      "[INFO] processing image 8/18\n",
      "[INFO] processing image 9/18\n",
      "[INFO] processing image 10/18\n",
      "[INFO] processing image 11/18\n",
      "[INFO] processing image 12/18\n",
      "[INFO] processing image 13/18\n",
      "[INFO] processing image 14/18\n",
      "[INFO] processing image 15/18\n",
      "[INFO] processing image 16/18\n",
      "[INFO] processing image 17/18\n",
      "[INFO] processing image 18/18\n"
     ]
    }
   ],
   "source": [
    "margin = 0.2\n",
    "# loop over the image paths\n",
    "for (i, imagePath) in enumerate(imagePaths):\n",
    "\t# extract the person name from the image path\n",
    "\tprint(\"[INFO] processing image {}/{}\".format(i + 1,\n",
    "\t\tlen(imagePaths)))\n",
    "\tname = imagePath.split(os.path.sep)[-2]\n",
    "\n",
    "\t# load the image, resize it to have a width of 600 pixels (while\n",
    "\t# maintaining the aspect ratio), and then grab the image\n",
    "\t# dimensions\n",
    "\timage = cv2.imread(imagePath)\n",
    "\t#image = imutils.resize(image, width=600)\n",
    "\tinput_img = cv2.cvtColor(image, cv2.COLOR_BGR2RGB)\n",
    "\timg_h, img_w, _ = np.shape(input_img)\n",
    "\t#(img_h, img_w) = image.shape[:2]\n",
    "\t#img = cv2.cvtColor(image, cv2.COLOR_BGR2RGB)\n",
    "\n",
    "\tdetected = detector(image, 1)\n",
    "\tif len(detected) > 0:\n",
    "\t\tfor i, d in enumerate(detected):\n",
    "\t\t\tx1, y1, x2, y2, w, h = d.left(), d.top(), d.right() + 1, d.bottom() + 1, d.width(), d.height()\n",
    "\t\t\txw1 = max(int(x1 - margin * w), 0)\n",
    "\t\t\tyw1 = max(int(y1 - margin * h), 0)\n",
    "\t\t\txw2 = min(int(x2 + margin * w), img_w - 1)\n",
    "\t\t\tyw2 = min(int(y2 + margin * h), img_h - 1)\n",
    "\t\tface =  image[yw1:yw2 + 1, xw1:xw2 + 1, :]\n",
    "\tcv2.imshow('dlib',face)\n",
    "cv2.destroyAllWindows()    \n",
    "    \n",
    "# # \t# construct a blob from the image\n",
    "# # \timageBlob = cv2.dnn.blobFromImage(\n",
    "# # \t\tcv2.resize(image, (300, 300)), 1.0, (300, 300),\n",
    "# # \t\t(104.0, 177.0, 123.0), swapRB=False, crop=False)\n",
    "\n",
    "# # \t# apply OpenCV's deep learning-based face detector to localize\n",
    "# # \t# faces in the input image\n",
    "# # \tdetector.setInput(imageBlob)\n",
    "# # \tdetections = detector.forward()\n",
    "\n",
    "# # \t# ensure at least one face was found\n",
    "# # \tif len(detections) > 0:\n",
    "# # \t\t# we're making the assumption that each image has only ONE\n",
    "# # \t\t# face, so find the bounding box with the largest probability\n",
    "# # \t\ti = np.argmax(detections[0, 0, :, 2])\n",
    "# # \t\tconfidence = detections[0, 0, i, 2]\n",
    "\n",
    "# # \t\t# ensure that the detection with the largest probability also\n",
    "# # \t\t# means our minimum probability test (thus helping filter out\n",
    "# # \t\t# weak detections)\n",
    "# # \t\tif confidence > 0.5:\n",
    "# # \t\t\t# compute the (x, y)-coordinates of the bounding box for\n",
    "# # \t\t\t# the face\n",
    "# # \t\t\tbox = detections[0, 0, i, 3:7] * np.array([w, h, w, h])\n",
    "# # \t\t\t(startX, startY, endX, endY) = box.astype(\"int\")\n",
    "\n",
    "# # \t\t\t# extract the face ROI and grab the ROI dimensions\n",
    "# # \t\t\tface = image[startY:endY, startX:endX]\n",
    "# \t\t\t(fH, fW) = face.shape[:2]\n",
    "\n",
    "# \t\t# ensure the face width and height are sufficiently large\n",
    "# \t\t\tif fW < 20 or fH < 20:\n",
    "# \t\t\t\tcontinue\n",
    "\n",
    "# \t\t\t# construct a blob for the face ROI, then pass the blob\n",
    "# \t\t\t# through our face embedding model to obtain the 128-d\n",
    "# \t\t\t# quantification of the face\n",
    "# \t\t\tfaceBlob = cv2.dnn.blobFromImage(face, 1.0 / 255,\n",
    "# \t\t\t\t(96, 96), (0, 0, 0), swapRB=True, crop=False)\n",
    "# \t\t\tembedder.setInput(faceBlob)\n",
    "# \t\t\tvec = embedder.forward()\n",
    "\n",
    "# \t\t\t# add the name of the person + corresponding face\n",
    "# \t\t\t# embedding to their respective lists\n",
    "# \t\t\tknownNames.append(name)\n",
    "# \t\t\tknownEmbeddings.append(vec.flatten())\n",
    "# \t#cv2.imshow(\"Face Detector\", face)\n"
   ]
  },
  {
   "cell_type": "code",
   "execution_count": 7,
   "metadata": {
    "scrolled": true
   },
   "outputs": [
    {
     "name": "stdout",
     "output_type": "stream",
     "text": [
      "[INFO] serializing 0 encodings...\n"
     ]
    }
   ],
   "source": [
    "# dump the facial embeddings + names to disk\n",
    "print(\"[INFO] serializing {} encodings...\".format(total))\n",
    "data = {\"embeddings\": knownEmbeddings, \"names\": knownNames}\n",
    "f = open(\"./embedd\", \"wb\")\n",
    "f.write(pickle.dumps(data))\n",
    "f.close()"
   ]
  },
  {
   "cell_type": "code",
   "execution_count": 12,
   "metadata": {},
   "outputs": [],
   "source": [
    "from sklearn.preprocessing import LabelEncoder\n",
    "from sklearn.svm import SVC\n",
    "import argparse\n",
    "import pickle"
   ]
  },
  {
   "cell_type": "code",
   "execution_count": 13,
   "metadata": {},
   "outputs": [
    {
     "name": "stdout",
     "output_type": "stream",
     "text": [
      "Requirement already satisfied: scikit-learn in ./anaconda3/lib/python3.7/site-packages (0.21.2)\r\n",
      "Requirement already satisfied: scipy>=0.17.0 in ./anaconda3/lib/python3.7/site-packages (from scikit-learn) (1.3.0)\r\n",
      "Requirement already satisfied: joblib>=0.11 in ./anaconda3/lib/python3.7/site-packages (from scikit-learn) (0.13.2)\r\n",
      "Requirement already satisfied: numpy>=1.11.0 in ./anaconda3/lib/python3.7/site-packages (from scikit-learn) (1.16.4)\r\n"
     ]
    }
   ],
   "source": [
    "!pip install scikit-learn\n"
   ]
  },
  {
   "cell_type": "code",
   "execution_count": 11,
   "metadata": {},
   "outputs": [
    {
     "name": "stdout",
     "output_type": "stream",
     "text": [
      "[INFO] loading face embeddings...\n",
      "[INFO] encoding labels...\n"
     ]
    }
   ],
   "source": [
    "# load the face embeddings\n",
    "print(\"[INFO] loading face embeddings...\")\n",
    "data = pickle.loads(open(\"embedd\", \"rb\").read())\n",
    " \n",
    "# encode the labels\n",
    "print(\"[INFO] encoding labels...\")\n",
    "le = LabelEncoder()\n",
    "labels = le.fit_transform(data[\"names\"])"
   ]
  },
  {
   "cell_type": "code",
   "execution_count": 12,
   "metadata": {},
   "outputs": [
    {
     "name": "stdout",
     "output_type": "stream",
     "text": [
      "[INFO] training model...\n"
     ]
    },
    {
     "data": {
      "text/plain": [
       "SVC(C=1.0, cache_size=200, class_weight=None, coef0=0.0,\n",
       "    decision_function_shape='ovr', degree=3, gamma='auto_deprecated',\n",
       "    kernel='linear', max_iter=-1, probability=True, random_state=None,\n",
       "    shrinking=True, tol=0.001, verbose=False)"
      ]
     },
     "execution_count": 12,
     "metadata": {},
     "output_type": "execute_result"
    }
   ],
   "source": [
    "# train the model used to accept the 128-d embeddings of the face and\n",
    "# then produce the actual face recognition\n",
    "print(\"[INFO] training model...\")\n",
    "recognizer = SVC(C=1.0, kernel=\"linear\", probability=True)\n",
    "recognizer.fit(data[\"embeddings\"], labels)"
   ]
  },
  {
   "cell_type": "code",
   "execution_count": 13,
   "metadata": {},
   "outputs": [],
   "source": [
    "# write the actual face recognition model to disk\n",
    "f = open(\"recognize\", \"wb\")\n",
    "f.write(pickle.dumps(recognizer))\n",
    "f.close()\n",
    " \n",
    "# write the label encoder to disk\n",
    "f = open(\"lee\", \"wb\")\n",
    "f.write(pickle.dumps(le))\n",
    "f.close()"
   ]
  },
  {
   "cell_type": "code",
   "execution_count": 14,
   "metadata": {},
   "outputs": [],
   "source": [
    " \n",
    "# load the actual face recognition model along with the label encoder\n",
    "recognizer = pickle.loads(open(\"recognize\", \"rb\").read())\n",
    "le = pickle.loads(open(\"lee\", \"rb\").read())"
   ]
  },
  {
   "cell_type": "code",
   "execution_count": 18,
   "metadata": {},
   "outputs": [
    {
     "data": {
      "text/plain": [
       "13"
      ]
     },
     "execution_count": 18,
     "metadata": {},
     "output_type": "execute_result"
    }
   ],
   "source": [
    "# load the image, resize it to have a width of 600 pixels (while\n",
    "# maintaining the aspect ratio), and then grab the image dimensions\n",
    "image = cv2.imread(\"./images/patrick_bateman.jpg\")\n",
    "image = imutils.resize(image, width=600)\n",
    "#(h, w) = image.shape[:2]\n",
    "(img_h, img_w) = image.shape[:2]\n",
    "\t#img = cv2.cvtColor(image, cv2.COLOR_BGR2RGB)\n",
    "\n",
    "detected = detector(image, 1)\n",
    "if len(detected) > 0:\n",
    "\tfor i, d in enumerate(detected):\n",
    "\t\tx1, y1, x2, y2, w, h = d.left(), d.top(), d.right() + 1, d.bottom() + 1, d.width(), d.height()\n",
    "\t\txw1 = max(int(x1 - margin * w), 0)\n",
    "\t\tyw1 = max(int(y1 - margin * h), 0)\n",
    "\t\txw2 = min(int(x2 + margin * w), img_w - 1)\n",
    "\t\tyw2 = min(int(y2 + margin * h), img_h - 1)\n",
    "\t\tface =  image[yw1:yw2 + 1, xw1:xw2 + 1, :]\n",
    "\t\t\t#cv2.imshow(\"Face Detector\", face) \n",
    "\n",
    "\t\t(fH, fW) = face.shape[:2]\n",
    "\n",
    "\t\t# ensure the face width and height are sufficiently large\n",
    "\t\tif fW < 20 or fH < 20:\n",
    "\t\t\tcontinue\n",
    "\n",
    "\t\t\t# construct a blob for the face ROI, then pass the blob\n",
    "\t\t\t# through our face embedding model to obtain the 128-d\n",
    "\t\t\t# quantification of the face\n",
    "\t\tfaceBlob = cv2.dnn.blobFromImage(face, 1.0 / 255,\n",
    "\t\t\t(96, 96), (0, 0, 0), swapRB=True, crop=False)\n",
    "\t\tembedder.setInput(faceBlob)\n",
    "\t\tvec = embedder.forward()\n",
    "\n",
    " \n",
    "\t\t# perform classification to recognize the face\n",
    "\t\tpreds = recognizer.predict_proba(vec)[0]\n",
    "\t\tj = np.argmax(preds)\n",
    "\t\tproba = preds[j]\n",
    "\t\tname = le.classes_[j]\n",
    "\n",
    "\t\t# draw the bounding box of the face along with the associated\n",
    "\t\t# probability\n",
    "\t\ttext = \"{}: {:.2f}%\".format(name, proba * 100)\n",
    "\t\t#y = startY - 10 if startY - 10 > 10 else startY + 10\n",
    "\t\tcv2.rectangle(image, (xw1, yw1), (xw2, yw2),\n",
    "\t\t\t(0, 0, 255), 2)\n",
    "\t\tcv2.putText(image, text, (xw1, yw1-10),\n",
    "\t\t\tcv2.FONT_HERSHEY_SIMPLEX, 0.45, (0, 0, 255), 2)\n",
    " \n",
    "# show the output image\n",
    "cv2.imshow(\"Image\", image)\n",
    "cv2.waitKey(0)"
   ]
  },
  {
   "cell_type": "code",
   "execution_count": null,
   "metadata": {},
   "outputs": [],
   "source": []
  }
 ],
 "metadata": {
  "kernelspec": {
   "display_name": "Python 3",
   "language": "python",
   "name": "python3"
  },
  "language_info": {
   "codemirror_mode": {
    "name": "ipython",
    "version": 3
   },
   "file_extension": ".py",
   "mimetype": "text/x-python",
   "name": "python",
   "nbconvert_exporter": "python",
   "pygments_lexer": "ipython3",
   "version": "3.7.3"
  }
 },
 "nbformat": 4,
 "nbformat_minor": 2
}
