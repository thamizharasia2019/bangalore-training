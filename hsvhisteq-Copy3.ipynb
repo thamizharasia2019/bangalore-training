{
 "cells": [
  {
   "cell_type": "code",
   "execution_count": 33,
   "metadata": {
    "scrolled": true
   },
   "outputs": [
    {
     "data": {
      "text/plain": [
       "True"
      ]
     },
     "execution_count": 33,
     "metadata": {},
     "output_type": "execute_result"
    }
   ],
   "source": [
    "import cv2\n",
    "import numpy as np\n",
    "from matplotlib import pyplot as plt\n",
    "# Load the image\n",
    "inputfile=\"img2597810ANPR_L00.jpg\"\n",
    "outputfile=\"out.jpg\"\n",
    "path1 = \"/home/user/Downloads/DAY2/SET7A1/\"\n",
    "img = cv2.imread(path1+inputfile)\n",
    "\n",
    "background= cv2.imread(\"back.jpg\")\n",
    "\n",
    "per=50\n",
    "width= int( (img.shape[1]*per) / 100)\n",
    "height= int ((img.shape[0]*per) /100 )\n",
    "dim=(width, height)\n",
    "img = cv2.resize(img,dim, interpolation = cv2.INTER_AREA)\n",
    "image=img\n",
    "per1=50\n",
    "width1= int( (background.shape[1]*per) / 100)\n",
    "height1= int ((background.shape[0]*per) /100 )\n",
    "dim1=(width1, height1)\n",
    "background = cv2.resize(background,dim1, interpolation = cv2.INTER_AREA)\n",
    "img = cv2.cvtColor(img, cv2.COLOR_BGR2RGB)\n",
    "img = np.array(255*(img/255)**2,dtype='uint8')\n",
    "image=img\n",
    "\n",
    "background = cv2.cvtColor(background, cv2.COLOR_BGR2RGB)\n",
    "img = cv2.cvtColor(img, cv2.COLOR_RGB2HSV)\n",
    "background= cv2.cvtColor(background, cv2.COLOR_RGB2HSV)\n",
    "H, S, V = cv2.split(img)\n",
    "BH, BS, BV= cv2.split(background)\n",
    "alpha1 = 0.2 ; beta1 = 0.8 ; thetas= 0.8; thetah= 0.8\n",
    "s=V\n",
    "import sys\n",
    "V = np.float32(V)/255\n",
    "BV= np.float32(BV)/255\n",
    "S = np.float32(S)/255\n",
    "BS= np.float32(BS)/255\n",
    "H = np.float32(H)/255\n",
    "BH= np.float32(BH)/255\n",
    "s= V.copy()\n",
    "\n",
    "for i in range(H.shape[0]):\n",
    "    for j in range(H.shape[1]):\n",
    "        try:\n",
    "            x= V[i,j]/ BV[i,j]\n",
    "        except ZeroDivisionError:\n",
    "            x = 0\n",
    "        \n",
    "        if ( (alpha1 <= x <= beta1) and (abs(S[i,j]-BS[i,j])<= thetas) and (abs(H[i,j]-BH[i,j])<=thetah)) :\n",
    "            s[i,j]=1\n",
    "        else:\n",
    "            s[i,j]=0\n",
    "            \n",
    "s=s*255\n",
    "\n",
    "s = np.array(s,dtype=np.uint8)\n",
    "median = cv2.medianBlur(s, 5)\n",
    "#median =s\n",
    "kernel = np.ones((5, 5), np.uint8)\n",
    "closing = cv2.morphologyEx(median, cv2.MORPH_CLOSE, kernel)\n",
    "opening = cv2.morphologyEx(closing, cv2.MORPH_OPEN, kernel)\n",
    "\n",
    "#opening = s\n",
    "opening = np.array(opening,dtype=np.uint8)\n",
    "\n",
    "result = image.copy()\n",
    "height=result.shape[0]\n",
    "width=result.shape[1]\n",
    "blank_image = np.zeros((height,width,3), np.uint8)\n",
    "blank_image[opening!=0] = image[opening!=0]\n",
    "\n",
    "blank_image1=np.uint8(np.double(blank_image)*1.2 + 5)\n",
    "\n",
    "\n",
    "claheimg = np.zeros((height,width,3), np.uint8)\n",
    "claheimg[opening==0]=image[opening==0]\n",
    "clahe = cv2.createCLAHE(clipLimit=9.0,tileGridSize=(5, 5))\n",
    "\n",
    "claheimg[:,:,0] = clahe.apply(blank_image1[:,:,0])\n",
    "claheimg[:,:,1] = clahe.apply(blank_image1[:,:,1])\n",
    "claheimg[:,:,2] = clahe.apply(blank_image1[:,:,2])\n",
    "\n",
    "\n",
    "claheimg[opening==0]=image[opening==0]\n",
    "\n",
    "\n",
    "\n",
    "#claheimg = np.array(255*(claheimg/255)**0.8,dtype='uint8')\n",
    "# claheimg[:,:,0] = clahe.apply(claheimg[:,:,0])\n",
    "# claheimg[:,:,1] = clahe.apply(claheimg[:,:,1])\n",
    "# claheimg[:,:,2] = clahe.apply(claheimg[:,:,2])\n",
    "\n",
    "cv2.imwrite(path1+outputfile,claheimg)"
   ]
  },
  {
   "cell_type": "code",
   "execution_count": 9,
   "metadata": {},
   "outputs": [],
   "source": [
    "claheimg = np.array(claheimg,dtype=np.uint8)\n",
    "rgb_planes = cv2.split(claheimg)\n",
    "\n",
    "result_planes = []\n",
    "result_norm_planes = []\n",
    "arr = np.array([])\n",
    "for plane in rgb_planes:\n",
    "\n",
    "    dilated_img = cv2.dilate(plane, kernel, iterations = 5)\n",
    "    dilated_img = np.array(dilated_img,dtype=np.uint8)\n",
    "    #bg_img = cv2.medianBlur(dilated_img, 21)\n",
    "   #bg_img  = np.array(bg_img ,dtype=np.uint8)\n",
    "    bilateral = cv2.bilateralFilter(dilated_img, 9, 25, 25)\n",
    "    bilateral = np.array(bilateral,dtype=np.uint8)\n",
    "    diff_img = 255- cv2.absdiff(plane, bilateral)\n",
    "    #diff_img = 255- cv2.absdiff(plane, bg_img)\n",
    "    norm_img = cv2.normalize(diff_img, arr, alpha=0, beta=  255, norm_type=cv2.NORM_MINMAX, dtype=cv2.CV_8UC1)\n",
    "    result_planes.append(diff_img)\n",
    "    result_norm_planes.append(norm_img)\n",
    "\n",
    "result = cv2.merge(result_planes)\n",
    "result_norm = cv2.merge(result_norm_planes)\n",
    "outputfile1=\"outnorm.jpg\""
   ]
  },
  {
   "cell_type": "code",
   "execution_count": 4,
   "metadata": {},
   "outputs": [
    {
     "data": {
      "text/plain": [
       "True"
      ]
     },
     "execution_count": 4,
     "metadata": {},
     "output_type": "execute_result"
    }
   ],
   "source": [
    "cv2.imwrite(path1+outputfile1,result_norm)"
   ]
  },
  {
   "cell_type": "code",
   "execution_count": null,
   "metadata": {},
   "outputs": [],
   "source": []
  }
 ],
 "metadata": {
  "kernelspec": {
   "display_name": "Python 3",
   "language": "python",
   "name": "python3"
  },
  "language_info": {
   "codemirror_mode": {
    "name": "ipython",
    "version": 3
   },
   "file_extension": ".py",
   "mimetype": "text/x-python",
   "name": "python",
   "nbconvert_exporter": "python",
   "pygments_lexer": "ipython3",
   "version": "3.7.3"
  }
 },
 "nbformat": 4,
 "nbformat_minor": 2
}
