{
 "cells": [
  {
   "cell_type": "code",
   "execution_count": 1,
   "metadata": {},
   "outputs": [
    {
     "name": "stdout",
     "output_type": "stream",
     "text": [
      "Collecting mxnet-cu80\n",
      "\u001b[?25l  Downloading https://files.pythonhosted.org/packages/a5/3a/35bd08de97e7025dc65a4087ac08b6e87fa537d17cdaa14993f5db4cbdc5/mxnet_cu80-1.5.0-py2.py3-none-manylinux1_x86_64.whl (372.1MB)\n",
      "\u001b[K     |████████████████████████████████| 372.1MB 28kB/s  eta 0:00:014    |██▎                             | 26.9MB 6.2MB/s eta 0:00:56     |███▍                            | 39.9MB 9.6MB/s eta 0:00:35     |█████                           | 58.0MB 10.5MB/s eta 0:00:30     |████████████▏                   | 141.4MB 9.8MB/s eta 0:00:24     |████████████▊                   | 148.0MB 9.8MB/s eta 0:00:23     |█████████████▉                  | 161.1MB 10.6MB/s eta 0:00:20     |██████████████▍                 | 167.2MB 7.6MB/s eta 0:00:27     |██████████████▌                 | 168.1MB 7.6MB/s eta 0:00:27     |███████████████▋                | 181.7MB 7.7MB/s eta 0:00:25     |████████████████▏               | 188.0MB 8.6MB/s eta 0:00:22     |████████████████████            | 232.3MB 1.6MB/s eta 0:01:27     |████████████████████▌           | 237.9MB 6.2MB/s eta 0:00:22     |██████████████████████▋         | 262.6MB 8.9MB/s eta 0:00:13     |███████████████████████▏        | 269.8MB 5.6MB/s eta 0:00:19�███▎       | 282.5MB 3.6MB/s eta 0:00:25     |█████████████████████████       | 289.8MB 6.4MB/s eta 0:00:13     |█████████████████████████▏      | 293.0MB 4.0MB/s eta 0:00:20     |███████████████████████████▉    | 324.2MB 3.9MB/s eta 0:00:13     |██████████████████████████████▎ | 351.7MB 5.9MB/s eta 0:00:04\n",
      "\u001b[?25hRequirement already satisfied: requests<3,>=2.20.0 in ./anaconda3/lib/python3.7/site-packages (from mxnet-cu80) (2.22.0)\n",
      "Requirement already satisfied: numpy<2.0.0,>1.16.0 in ./anaconda3/lib/python3.7/site-packages (from mxnet-cu80) (1.16.5)\n",
      "Collecting graphviz<0.9.0,>=0.8.1 (from mxnet-cu80)\n",
      "  Downloading https://files.pythonhosted.org/packages/53/39/4ab213673844e0c004bed8a0781a0721a3f6bb23eb8854ee75c236428892/graphviz-0.8.4-py2.py3-none-any.whl\n",
      "Requirement already satisfied: idna<2.9,>=2.5 in ./anaconda3/lib/python3.7/site-packages (from requests<3,>=2.20.0->mxnet-cu80) (2.8)\n",
      "Requirement already satisfied: urllib3!=1.25.0,!=1.25.1,<1.26,>=1.21.1 in ./anaconda3/lib/python3.7/site-packages (from requests<3,>=2.20.0->mxnet-cu80) (1.24.2)\n",
      "Requirement already satisfied: certifi>=2017.4.17 in ./anaconda3/lib/python3.7/site-packages (from requests<3,>=2.20.0->mxnet-cu80) (2019.6.16)\n",
      "Requirement already satisfied: chardet<3.1.0,>=3.0.2 in ./anaconda3/lib/python3.7/site-packages (from requests<3,>=2.20.0->mxnet-cu80) (3.0.4)\n",
      "Installing collected packages: graphviz, mxnet-cu80\n",
      "Successfully installed graphviz-0.8.4 mxnet-cu80-1.5.0\n",
      "Note: you may need to restart the kernel to use updated packages.\n"
     ]
    }
   ],
   "source": [
    "pip install mxnet-cu80"
   ]
  },
  {
   "cell_type": "code",
   "execution_count": null,
   "metadata": {},
   "outputs": [],
   "source": []
  }
 ],
 "metadata": {
  "kernelspec": {
   "display_name": "Python 3",
   "language": "python",
   "name": "python3"
  },
  "language_info": {
   "codemirror_mode": {
    "name": "ipython",
    "version": 3
   },
   "file_extension": ".py",
   "mimetype": "text/x-python",
   "name": "python",
   "nbconvert_exporter": "python",
   "pygments_lexer": "ipython3",
   "version": "3.7.3"
  }
 },
 "nbformat": 4,
 "nbformat_minor": 2
}
