{
 "cells": [
  {
   "cell_type": "code",
   "execution_count": null,
   "metadata": {},
   "outputs": [],
   "source": [
    "from imutils import paths\n",
    "import numpy as np\n",
    "import argparse\n",
    "import imutils\n",
    "import pickle\n",
    "import cv2\n",
    "import os\n",
    "\n",
    "protoPath =  \"./face_detection_model/deploy.prototxt\"\n",
    "modelPath = \"./face_detection_model/res10_300x300_ssd_iter_140000.caffemodel\"\n",
    "#import libraries\n",
    "import os   \n",
    "import cv2\n",
    "import numpy#get the absolute path of the working directory\n",
    "dir_path = \"./groupphoto/group1\"\n",
    "dir_path1= \"./groupphoto/group1Output\"\n",
    "#create the Output folder if it doesn't already exist\n",
    "\n",
    "model = cv2.dnn.readNetFromCaffe(protoPath, modelPath)\n",
    "\n",
    "for file in os.listdir(dir_path):\n",
    "      #split the file name and the extension into two variales\n",
    "    filename, file_extension = os.path.splitext(file)#check if the file extension is .png,.jpeg or .jpg \n",
    "    if (file_extension in ['.png','.jpg','.jpeg']):\n",
    "        #read the image using cv2\n",
    "        count = 0\n",
    "        image = cv2.imread(dir_path+\"/\"+file)#accessing the image.shape tuple and taking the elements\n",
    "        (h, w) = image.shape[:2]#get our blob which is our input image \n",
    "        blob = cv2.dnn.blobFromImage(cv2.resize(image, (300, 300)), 1.0, (300, 300), (104.0, 177.0, 123.0))\n",
    "        #input the blob into the model and get back the detections \n",
    "        model.setInput(blob)\n",
    "        detections = model.forward()\n",
    "        #Iterate over all of the faces detected and extract their start and end points\n",
    "        \n",
    "        for i in range(0, detections.shape[2]):\n",
    "            box = detections[0, 0, i, 3:7] * numpy.array([w, h, w, h])\n",
    "            (startX, startY, endX, endY) = box.astype(\"int\")\n",
    "            confidence = detections[0, 0, i, 2]\n",
    "            #if the algorithm is more than 16.5% confident that the      detection is a face, show a rectangle around it\n",
    "            if (confidence > 0.165):\n",
    "                cv2.rectangle(image, (startX, startY), (endX, endY), (0, 255, 0), 2)\n",
    "                count = count + 1    #save the modified image to the Output folder\n",
    "        cv2.imwrite('./groupphoto/group1output/' + file, image)    #print out a success message\n",
    "    print(\"Face detection complete for image \"+ file + \" (\"+ str(count) +\") faces found!\")"
   ]
  }
 ],
 "metadata": {
  "kernelspec": {
   "display_name": "Python 3",
   "language": "python",
   "name": "python3"
  },
  "language_info": {
   "codemirror_mode": {
    "name": "ipython",
    "version": 3
   },
   "file_extension": ".py",
   "mimetype": "text/x-python",
   "name": "python",
   "nbconvert_exporter": "python",
   "pygments_lexer": "ipython3",
   "version": "3.7.3"
  }
 },
 "nbformat": 4,
 "nbformat_minor": 2
}
