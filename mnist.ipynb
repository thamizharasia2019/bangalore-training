{
 "cells": [
  {
   "cell_type": "markdown",
   "metadata": {
    "colab_type": "text",
    "id": "SXSUuEZdXxXf"
   },
   "source": [
    "##CREATION OF CNN MODEL FOR FASHION MNIST DATASET"
   ]
  },
  {
   "cell_type": "markdown",
   "metadata": {
    "colab_type": "text",
    "id": "0fS1hIzsYCXd"
   },
   "source": [
    "### Load fashion mnist dataset using keras"
   ]
  },
  {
   "cell_type": "code",
   "execution_count": 1,
   "metadata": {
    "colab": {},
    "colab_type": "code",
    "id": "WKL_SkdHT7v7"
   },
   "outputs": [
    {
     "name": "stdout",
     "output_type": "stream",
     "text": [
      "Downloading data from https://storage.googleapis.com/tensorflow/tf-keras-datasets/mnist.npz\n",
      "11493376/11490434 [==============================] - 2s 0us/step\n"
     ]
    }
   ],
   "source": [
    "import tensorflow as tf\n",
    "fmnist = tf.keras.datasets.mnist\n",
    "\n",
    "(x_train, y_train),(x_test, y_test) = fmnist.load_data()\n"
   ]
  },
  {
   "cell_type": "markdown",
   "metadata": {
    "colab_type": "text",
    "id": "8_XHGb9UjgmJ"
   },
   "source": [
    "###Sample Fashion Mnist Training images"
   ]
  },
  {
   "cell_type": "code",
   "execution_count": 4,
   "metadata": {
    "colab": {
     "base_uri": "https://localhost:8080/",
     "height": 286
    },
    "colab_type": "code",
    "id": "JxtpXQhEd5s8",
    "outputId": "fab74a87-c130-4997-b872-401607b52fdd"
   },
   "outputs": [
    {
     "data": {
      "text/plain": [
       "Text(0.5, 1.0, 'Training sample images')"
      ]
     },
     "execution_count": 4,
     "metadata": {},
     "output_type": "execute_result"
    },
    {
     "data": {
      "image/png": "[encoded data removed]",
      "text/plain": [
       "<Figure size 432x288 with 9 Axes>"
      ]
     },
     "metadata": {
      "needs_background": "light"
     },
     "output_type": "display_data"
    }
   ],
   "source": [
    "from matplotlib import pyplot as plt\n",
    "\n",
    "\n",
    "for i in range(9):\n",
    "  plt.subplot(330 + 1 +i)\n",
    "  plt.imshow(x_train[i],cmap=plt.get_cmap('gray'))\n",
    "\n",
    "  \n",
    "plt.title('Training sample images')\n",
    "  \n"
   ]
  },
  {
   "cell_type": "markdown",
   "metadata": {
    "colab_type": "text",
    "id": "_WPdOfoijshz"
   },
   "source": [
    "###Sample Testing images"
   ]
  },
  {
   "cell_type": "code",
   "execution_count": 5,
   "metadata": {
    "colab": {
     "base_uri": "https://localhost:8080/",
     "height": 286
    },
    "colab_type": "code",
    "id": "BlCUH2oGjoZt",
    "outputId": "a0132433-408a-4f10-8c33-c5009990d5ca"
   },
   "outputs": [
    {
     "data": {
      "text/plain": [
       "Text(0.5, 1.0, 'Test sample images')"
      ]
     },
     "execution_count": 5,
     "metadata": {},
     "output_type": "execute_result"
    },
    {
     "data": {
      "image/png": "[encoded data removed]",
      "text/plain": [
       "<Figure size 432x288 with 9 Axes>"
      ]
     },
     "metadata": {
      "needs_background": "light"
     },
     "output_type": "display_data"
    }
   ],
   "source": [
    "from matplotlib import pyplot as plt\n",
    "\n",
    "\n",
    "for i in range(9):\n",
    "  plt.subplot(330 + 1 +i)\n",
    "  plt.imshow(x_test[i],cmap=plt.get_cmap('gray'))\n",
    "\n",
    "  \n",
    "plt.title('Test sample images')\n",
    "  "
   ]
  },
  {
   "cell_type": "markdown",
   "metadata": {
    "colab_type": "text",
    "id": "KeLlF3dqYc2F"
   },
   "source": [
    "###Pre-processing of Training and Testing set"
   ]
  },
  {
   "cell_type": "markdown",
   "metadata": {
    "colab_type": "text",
    "id": "Pf2s97EMY_8v"
   },
   "source": [
    "### Tensorflow model uses four dimensions\n",
    "### image size of fashion mnist is 28 x28"
   ]
  },
  {
   "cell_type": "code",
   "execution_count": 6,
   "metadata": {
    "colab": {},
    "colab_type": "code",
    "id": "XWViCcI6YaFs"
   },
   "outputs": [],
   "source": [
    "\n",
    "x_train=x_train.reshape(x_train.shape[0],28,28,1)\n",
    "x_test=x_test.reshape(x_test.shape[0],28,28,1)\n",
    "## convert to floating point to process the data with tensorflow\n",
    "x_train=x_train.astype('float32')\n",
    "x_test=x_test.astype('float32')\n",
    "## Normalization of gray-scale image\n",
    "x_train/=255;\n",
    "x_test/=255;"
   ]
  },
  {
   "cell_type": "code",
   "execution_count": 7,
   "metadata": {
    "colab": {
     "base_uri": "https://localhost:8080/",
     "height": 51
    },
    "colab_type": "code",
    "id": "zlXjHLB2jmcw",
    "outputId": "95f0aabe-f230-4396-eeba-78b87422acfa"
   },
   "outputs": [
    {
     "name": "stdout",
     "output_type": "stream",
     "text": [
      "Training set (60000, 28, 28, 1)\n",
      "Testing set (10000, 28, 28, 1)\n"
     ]
    }
   ],
   "source": [
    "##displaying the size of training and testing set\n",
    "print('Training set', x_train.shape)\n",
    "print('Testing set', x_test.shape)"
   ]
  },
  {
   "cell_type": "markdown",
   "metadata": {
    "colab_type": "text",
    "id": "Z_5TGputZWS8"
   },
   "source": [
    "###preparation of class labels using hot-one encoding technique"
   ]
  },
  {
   "cell_type": "code",
   "execution_count": 8,
   "metadata": {
    "colab": {
     "base_uri": "https://localhost:8080/",
     "height": 68
    },
    "colab_type": "code",
    "id": "uZLA9bpsUYNT",
    "outputId": "e953f4ae-872c-4199-b6ac-1a68f6af687a"
   },
   "outputs": [
    {
     "name": "stdout",
     "output_type": "stream",
     "text": [
      "Training set labels (60000, 10)\n",
      "Testing Set labels (10000, 10)\n",
      "Number of classes 10\n"
     ]
    },
    {
     "name": "stderr",
     "output_type": "stream",
     "text": [
      "Using TensorFlow backend.\n"
     ]
    }
   ],
   "source": [
    "from keras.utils import np_utils\n",
    "y_train=np_utils.to_categorical(y_train)\n",
    "y_test=np_utils.to_categorical(y_test)\n",
    "num_classes=y_test.shape[1]\n",
    "print('Training set labels', y_train.shape)\n",
    "print('Testing Set labels', y_test.shape)\n",
    "print('Number of classes',num_classes)"
   ]
  },
  {
   "cell_type": "markdown",
   "metadata": {
    "colab_type": "text",
    "id": "5ZFowmGcaQXg"
   },
   "source": [
    "###Creation of CNN model"
   ]
  },
  {
   "cell_type": "markdown",
   "metadata": {
    "colab_type": "text",
    "id": "fNj9aQP_acYh"
   },
   "source": [
    "###Convolution layers - 2 filter size 3x3, Subsampling using Maxpooling layer-1, Regularization using Dropout, Activation function -RELU"
   ]
  },
  {
   "cell_type": "markdown",
   "metadata": {
    "colab_type": "text",
    "id": "-D9QUxPKa5Rf"
   },
   "source": [
    "### Fully Connected layers-3 and the last layer is FC layer using Activation function SOFTMAX which is a logistic regression method which assigns the class labels "
   ]
  },
  {
   "cell_type": "code",
   "execution_count": 9,
   "metadata": {
    "colab": {
     "base_uri": "https://localhost:8080/",
     "height": 275
    },
    "colab_type": "code",
    "id": "9tFlFAhkytPj",
    "outputId": "ebcaddfa-d851-444e-80be-e0e808b37e0a"
   },
   "outputs": [
    {
     "name": "stdout",
     "output_type": "stream",
     "text": [
      "WARNING:tensorflow:From /home/user/anaconda3/lib/python3.7/site-packages/keras/backend/tensorflow_backend.py:66: The name tf.get_default_graph is deprecated. Please use tf.compat.v1.get_default_graph instead.\n",
      "\n",
      "WARNING:tensorflow:From /home/user/anaconda3/lib/python3.7/site-packages/keras/backend/tensorflow_backend.py:541: The name tf.placeholder is deprecated. Please use tf.compat.v1.placeholder instead.\n",
      "\n",
      "WARNING:tensorflow:From /home/user/anaconda3/lib/python3.7/site-packages/keras/backend/tensorflow_backend.py:4432: The name tf.random_uniform is deprecated. Please use tf.random.uniform instead.\n",
      "\n",
      "WARNING:tensorflow:From /home/user/anaconda3/lib/python3.7/site-packages/keras/backend/tensorflow_backend.py:4267: The name tf.nn.max_pool is deprecated. Please use tf.nn.max_pool2d instead.\n",
      "\n",
      "WARNING:tensorflow:From /home/user/anaconda3/lib/python3.7/site-packages/keras/backend/tensorflow_backend.py:148: The name tf.placeholder_with_default is deprecated. Please use tf.compat.v1.placeholder_with_default instead.\n",
      "\n",
      "WARNING:tensorflow:From /home/user/anaconda3/lib/python3.7/site-packages/keras/backend/tensorflow_backend.py:3733: calling dropout (from tensorflow.python.ops.nn_ops) with keep_prob is deprecated and will be removed in a future version.\n",
      "Instructions for updating:\n",
      "Please use `rate` instead of `keep_prob`. Rate should be set to `rate = 1 - keep_prob`.\n"
     ]
    }
   ],
   "source": [
    "import keras\n",
    "from keras.models import Sequential\n",
    "from keras.layers import Dense,Dropout, Flatten\n",
    "from keras.layers import Conv2D,MaxPooling2D\n",
    "from keras import backend as K\n",
    "from keras.optimizers import SGD\n",
    "from keras.optimizers import Adam\n",
    "model =Sequential()\n",
    "input_shape=(28,28,1)\n",
    "model.add(Conv2D(32,kernel_size=(3, 3),activation='relu', input_shape=input_shape))\n",
    "model.add(Conv2D(64,kernel_size=(3, 3),activation='relu'))\n",
    "model.add(MaxPooling2D(pool_size=(2,2)))\n",
    "model.add(Dropout(0.25))\n",
    "model.add(Flatten())\n",
    "model.add(Dense(128,activation='relu'))\n",
    "model.add(Dropout(0.20))\n",
    "model.add(Dense(128,activation='relu'))\n",
    "model.add(Dropout(0.20))\n",
    "\n",
    "model.add(Dense(num_classes,activation='softmax'))"
   ]
  },
  {
   "cell_type": "markdown",
   "metadata": {
    "colab_type": "text",
    "id": "ndLXegfBXp4o"
   },
   "source": [
    "## Model Compilation and display of model summary with all hyperparameters\n"
   ]
  },
  {
   "cell_type": "markdown",
   "metadata": {
    "colab_type": "text",
    "id": "OfMEOWXBcxNN"
   },
   "source": [
    "### Optimizer used for minimizing the global cost function is Adam optimizer with a learning rate of 0.008"
   ]
  },
  {
   "cell_type": "code",
   "execution_count": 10,
   "metadata": {
    "colab": {
     "base_uri": "https://localhost:8080/",
     "height": 493
    },
    "colab_type": "code",
    "id": "Z9qva6n355BU",
    "outputId": "de5cecf5-6194-43f7-af10-a3f14ddd874e"
   },
   "outputs": [
    {
     "name": "stdout",
     "output_type": "stream",
     "text": [
      "WARNING:tensorflow:From /home/user/anaconda3/lib/python3.7/site-packages/keras/optimizers.py:793: The name tf.train.Optimizer is deprecated. Please use tf.compat.v1.train.Optimizer instead.\n",
      "\n",
      "WARNING:tensorflow:From /home/user/anaconda3/lib/python3.7/site-packages/keras/backend/tensorflow_backend.py:3576: The name tf.log is deprecated. Please use tf.math.log instead.\n",
      "\n",
      "Model: \"sequential_1\"\n",
      "_________________________________________________________________\n",
      "Layer (type)                 Output Shape              Param #   \n",
      "=================================================================\n",
      "conv2d_1 (Conv2D)            (None, 26, 26, 32)        320       \n",
      "_________________________________________________________________\n",
      "conv2d_2 (Conv2D)            (None, 24, 24, 64)        18496     \n",
      "_________________________________________________________________\n",
      "max_pooling2d_1 (MaxPooling2 (None, 12, 12, 64)        0         \n",
      "_________________________________________________________________\n",
      "dropout_1 (Dropout)          (None, 12, 12, 64)        0         \n",
      "_________________________________________________________________\n",
      "flatten_1 (Flatten)          (None, 9216)              0         \n",
      "_________________________________________________________________\n",
      "dense_1 (Dense)              (None, 128)               1179776   \n",
      "_________________________________________________________________\n",
      "dropout_2 (Dropout)          (None, 128)               0         \n",
      "_________________________________________________________________\n",
      "dense_2 (Dense)              (None, 128)               16512     \n",
      "_________________________________________________________________\n",
      "dropout_3 (Dropout)          (None, 128)               0         \n",
      "_________________________________________________________________\n",
      "dense_3 (Dense)              (None, 10)                1290      \n",
      "=================================================================\n",
      "Total params: 1,216,394\n",
      "Trainable params: 1,216,394\n",
      "Non-trainable params: 0\n",
      "_________________________________________________________________\n",
      "None\n"
     ]
    }
   ],
   "source": [
    "model.compile(loss='categorical_crossentropy', optimizer=Adam(0.0008),metrics=['accuracy'])\n",
    "\n",
    "print(model.summary())"
   ]
  },
  {
   "cell_type": "markdown",
   "metadata": {
    "colab_type": "text",
    "id": "KXjibgfmboN_"
   },
   "source": [
    "##batch-size is set to 64 and number of epochs is 10 \n"
   ]
  },
  {
   "cell_type": "code",
   "execution_count": 11,
   "metadata": {
    "colab": {},
    "colab_type": "code",
    "id": "RUvjpwNKjG2x"
   },
   "outputs": [],
   "source": [
    "batchsize=32\n",
    "epochs1=10"
   ]
  },
  {
   "cell_type": "markdown",
   "metadata": {
    "colab_type": "text",
    "id": "8XaosxnSb0B-"
   },
   "source": [
    "###Fitting the training set to model"
   ]
  },
  {
   "cell_type": "code",
   "execution_count": 12,
   "metadata": {
    "colab": {
     "base_uri": "https://localhost:8080/",
     "height": 374
    },
    "colab_type": "code",
    "id": "UKBRVA1Jcu_8",
    "outputId": "cd8493af-7329-4ebd-8db3-621357b98b12"
   },
   "outputs": [
    {
     "name": "stdout",
     "output_type": "stream",
     "text": [
      "WARNING:tensorflow:From /home/user/anaconda3/lib/python3.7/site-packages/tensorflow/python/ops/math_grad.py:1250: add_dispatch_support.<locals>.wrapper (from tensorflow.python.ops.array_ops) is deprecated and will be removed in a future version.\n",
      "Instructions for updating:\n",
      "Use tf.where in 2.0, which has the same broadcast rule as np.where\n",
      "Train on 60000 samples, validate on 10000 samples\n",
      "Epoch 1/10\n",
      "60000/60000 [==============================] - 215s 4ms/step - loss: 0.1731 - acc: 0.9468 - val_loss: 0.0574 - val_acc: 0.9813\n",
      "Epoch 2/10\n",
      "60000/60000 [==============================] - 219s 4ms/step - loss: 0.0612 - acc: 0.9819 - val_loss: 0.0406 - val_acc: 0.9865\n",
      "Epoch 3/10\n",
      "60000/60000 [==============================] - 219s 4ms/step - loss: 0.0441 - acc: 0.9868 - val_loss: 0.0374 - val_acc: 0.9884\n",
      "Epoch 4/10\n",
      "60000/60000 [==============================] - 229s 4ms/step - loss: 0.0346 - acc: 0.9897 - val_loss: 0.0364 - val_acc: 0.9896\n",
      "Epoch 5/10\n",
      "60000/60000 [==============================] - 230s 4ms/step - loss: 0.0292 - acc: 0.9912 - val_loss: 0.0306 - val_acc: 0.9904\n",
      "Epoch 6/10\n",
      "60000/60000 [==============================] - 215s 4ms/step - loss: 0.0226 - acc: 0.9928 - val_loss: 0.0398 - val_acc: 0.9887\n",
      "Epoch 7/10\n",
      "60000/60000 [==============================] - 228s 4ms/step - loss: 0.0206 - acc: 0.9936 - val_loss: 0.0339 - val_acc: 0.9906\n",
      "Epoch 8/10\n",
      "60000/60000 [==============================] - 229s 4ms/step - loss: 0.0170 - acc: 0.9947 - val_loss: 0.0265 - val_acc: 0.9938\n",
      "Epoch 9/10\n",
      "60000/60000 [==============================] - 230s 4ms/step - loss: 0.0163 - acc: 0.9949 - val_loss: 0.0361 - val_acc: 0.9913\n",
      "Epoch 10/10\n",
      "60000/60000 [==============================] - 229s 4ms/step - loss: 0.0135 - acc: 0.9956 - val_loss: 0.0418 - val_acc: 0.9909\n"
     ]
    }
   ],
   "source": [
    "results=model.fit(x_train,y_train,batch_size=batchsize,epochs=epochs1,verbose=1,validation_data=(x_test,y_test))"
   ]
  },
  {
   "cell_type": "markdown",
   "metadata": {
    "colab_type": "text",
    "id": "Bp4VCLiyb8TW"
   },
   "source": [
    "### Model Evaluation"
   ]
  },
  {
   "cell_type": "code",
   "execution_count": 13,
   "metadata": {
    "colab": {
     "base_uri": "https://localhost:8080/",
     "height": 68
    },
    "colab_type": "code",
    "id": "YrAnDIbLlUq9",
    "outputId": "2c2e8577-9ddc-4ebc-a4be-9bd19307d5c4"
   },
   "outputs": [
    {
     "name": "stdout",
     "output_type": "stream",
     "text": [
      "10000/10000 [==============================] - 7s 748us/step\n",
      "Test Loss 0.041754518986355876\n",
      "Test Accuracy 0.9909\n"
     ]
    }
   ],
   "source": [
    "score=model.evaluate(x_test,y_test,verbose=1)\n",
    "\n",
    "\n",
    "print('Test Loss',score[0])\n",
    "print('Test Accuracy',score[1])"
   ]
  },
  {
   "cell_type": "markdown",
   "metadata": {
    "colab_type": "text",
    "id": "7z88Phg5cCNB"
   },
   "source": [
    "### Graphical representation of Loss Vs Epochs \n"
   ]
  },
  {
   "cell_type": "code",
   "execution_count": 14,
   "metadata": {
    "colab": {
     "base_uri": "https://localhost:8080/",
     "height": 295
    },
    "colab_type": "code",
    "id": "Gx4UumzoGhpH",
    "outputId": "c700a220-4fbb-412d-8afb-3c9be4c73cc0"
   },
   "outputs": [
    {
     "data": {
      "image/png": "[encoded data removed]",
      "text/plain": [
       "<Figure size 432x288 with 1 Axes>"
      ]
     },
     "metadata": {
      "needs_background": "light"
     },
     "output_type": "display_data"
    }
   ],
   "source": [
    "from matplotlib import pyplot as plt\n",
    "results1=results.history\n",
    "loss=results1['loss']\n",
    "validationloss=results1['val_loss']\n",
    "epochs=range(1,len(loss)+1)\n",
    "plt.plot(epochs,loss,label='Training Loss',marker='*')\n",
    "plt.plot(epochs,validationloss,label='Validation/Test Loss',marker='+')\n",
    "plt.title('Loss Vs Epochs')\n",
    "plt.xlabel('Epochs')\n",
    "plt.ylabel('Loss')\n",
    "plt.grid(True)\n",
    "plt.legend()\n",
    "plt.show()\n",
    "\n"
   ]
  },
  {
   "cell_type": "markdown",
   "metadata": {
    "colab_type": "text",
    "id": "sKJ7kzSccWi1"
   },
   "source": [
    "###Graphical representation of Accuracy Vs Epochs"
   ]
  },
  {
   "cell_type": "code",
   "execution_count": 15,
   "metadata": {
    "colab": {
     "base_uri": "https://localhost:8080/",
     "height": 295
    },
    "colab_type": "code",
    "id": "WYrSo5JnKP2Y",
    "outputId": "564cf37d-8828-49fe-f858-c9ef9842cb0d"
   },
   "outputs": [
    {
     "data": {
      "image/png": "[encoded data removed]",
      "text/plain": [
       "<Figure size 432x288 with 1 Axes>"
      ]
     },
     "metadata": {
      "needs_background": "light"
     },
     "output_type": "display_data"
    }
   ],
   "source": [
    "from matplotlib import pyplot as plt\n",
    "results1=results.history\n",
    "training_accuracy=results1['acc']\n",
    "val_acc=results1['val_acc']\n",
    "epochs1=range(1,len(training_accuracy)+1)\n",
    "plt.plot(epochs1,training_accuracy,label='Training Accuracy',marker=\"*\",color='r')\n",
    "plt.plot(epochs1,val_acc,label='Validation Accuracy',marker=\"+\",color='g')\n",
    "plt.title('Accuracy Vs Epochs')\n",
    "plt.xlabel('Epochs')\n",
    "plt.ylabel('Accuracy')\n",
    "plt.grid(True)\n",
    "plt.legend()\n",
    "plt.show()\n"
   ]
  },
  {
   "cell_type": "markdown",
   "metadata": {
    "colab_type": "text",
    "id": "-Tvv442-cequ"
   },
   "source": [
    "###Display of Confusion matrix"
   ]
  },
  {
   "cell_type": "code",
   "execution_count": 16,
   "metadata": {
    "colab": {
     "base_uri": "https://localhost:8080/",
     "height": 187
    },
    "colab_type": "code",
    "id": "90MqdxjSRR3m",
    "outputId": "620a3b5f-e48e-4633-9e12-3b139cb06a02"
   },
   "outputs": [
    {
     "name": "stdout",
     "output_type": "stream",
     "text": [
      "[[ 979    0    0    1    0    0    0    0    0    0]\n",
      " [   0 1133    0    1    0    0    0    1    0    0]\n",
      " [   1    1 1018    2    1    0    0    9    0    0]\n",
      " [   0    0    0 1005    0    3    0    2    0    0]\n",
      " [   0    0    0    0  975    0    3    0    0    4]\n",
      " [   1    0    0    5    0  884    2    0    0    0]\n",
      " [   3    4    0    1    1    2  947    0    0    0]\n",
      " [   0    1    3    0    0    0    0 1023    0    1]\n",
      " [   1    1    1    6    6    1    2    2  952    2]\n",
      " [   0    1    0    2    5    6    0    1    1  993]]\n"
     ]
    }
   ],
   "source": [
    "from sklearn.metrics import confusion_matrix\n",
    "import numpy as np\n",
    "predicted=model.predict_classes(x_test)\n",
    "print(confusion_matrix(np.argmax(y_test,axis=1),predicted))"
   ]
  },
  {
   "cell_type": "code",
   "execution_count": null,
   "metadata": {},
   "outputs": [],
   "source": []
  }
 ],
 "metadata": {
  "colab": {
   "collapsed_sections": [],
   "name": "fashion2.ipynb",
   "provenance": [],
   "version": "0.3.2"
  },
  "kernelspec": {
   "display_name": "Python 3",
   "language": "python",
   "name": "python3"
  },
  "language_info": {
   "codemirror_mode": {
    "name": "ipython",
    "version": 3
   },
   "file_extension": ".py",
   "mimetype": "text/x-python",
   "name": "python",
   "nbconvert_exporter": "python",
   "pygments_lexer": "ipython3",
   "version": "3.7.3"
  }
 },
 "nbformat": 4,
 "nbformat_minor": 1
}
