{
 "cells": [
  {
   "cell_type": "code",
   "execution_count": 45,
   "metadata": {},
   "outputs": [],
   "source": [
    "import os\n",
    "import sys\n",
    "import cv2\n",
    "import numpy as np\n",
    "from matplotlib import pyplot as plt\n",
    "\n"
   ]
  },
  {
   "cell_type": "code",
   "execution_count": 46,
   "metadata": {},
   "outputs": [],
   "source": [
    "# Load the background image\n",
    "background= cv2.imread(\"back.jpg\")\n",
    "background = cv2.cvtColor(background, cv2.COLOR_BGR2RGB)\n",
    "background= cv2.cvtColor(background, cv2.COLOR_RGB2HSV)\n",
    "BH, BS, BV= cv2.split(background)\n",
    "BV= np.float32(BV)/255\n",
    "BS= np.float32(BS)/255\n",
    "BH= np.float32(BH)/255"
   ]
  },
  {
   "cell_type": "code",
   "execution_count": 47,
   "metadata": {},
   "outputs": [],
   "source": [
    "alpha1 = 0.2 ; beta1 = 0.8 ; thetas= 1; thetah= 1\n",
    "kernel = np.ones((3,3), np.uint8)"
   ]
  },
  {
   "cell_type": "code",
   "execution_count": null,
   "metadata": {},
   "outputs": [
    {
     "ename": "KeyboardInterrupt",
     "evalue": "",
     "output_type": "error",
     "traceback": [
      "\u001b[0;31m---------------------------------------------------------------------------\u001b[0m",
      "\u001b[0;31mKeyboardInterrupt\u001b[0m                         Traceback (most recent call last)",
      "\u001b[0;32m<ipython-input-48-00c138af3df6>\u001b[0m in \u001b[0;36m<module>\u001b[0;34m\u001b[0m\n\u001b[1;32m     24\u001b[0m                 \u001b[0mx\u001b[0m \u001b[0;34m=\u001b[0m \u001b[0;36m0\u001b[0m\u001b[0;34m\u001b[0m\u001b[0;34m\u001b[0m\u001b[0m\n\u001b[1;32m     25\u001b[0m \u001b[0;34m\u001b[0m\u001b[0m\n\u001b[0;32m---> 26\u001b[0;31m         \u001b[0;32mif\u001b[0m \u001b[0;34m(\u001b[0m \u001b[0;34m(\u001b[0m\u001b[0malpha1\u001b[0m \u001b[0;34m<=\u001b[0m \u001b[0mx\u001b[0m \u001b[0;34m<=\u001b[0m \u001b[0mbeta1\u001b[0m\u001b[0;34m)\u001b[0m \u001b[0;32mand\u001b[0m \u001b[0;34m(\u001b[0m\u001b[0mabs\u001b[0m\u001b[0;34m(\u001b[0m\u001b[0mS\u001b[0m\u001b[0;34m[\u001b[0m\u001b[0mi\u001b[0m\u001b[0;34m,\u001b[0m\u001b[0mj\u001b[0m\u001b[0;34m]\u001b[0m\u001b[0;34m-\u001b[0m\u001b[0mBS\u001b[0m\u001b[0;34m[\u001b[0m\u001b[0mi\u001b[0m\u001b[0;34m,\u001b[0m\u001b[0mj\u001b[0m\u001b[0;34m]\u001b[0m\u001b[0;34m)\u001b[0m\u001b[0;34m<=\u001b[0m \u001b[0mthetas\u001b[0m\u001b[0;34m)\u001b[0m \u001b[0;32mand\u001b[0m \u001b[0;34m(\u001b[0m\u001b[0mabs\u001b[0m\u001b[0;34m(\u001b[0m\u001b[0mH\u001b[0m\u001b[0;34m[\u001b[0m\u001b[0mi\u001b[0m\u001b[0;34m,\u001b[0m\u001b[0mj\u001b[0m\u001b[0;34m]\u001b[0m\u001b[0;34m-\u001b[0m\u001b[0mBH\u001b[0m\u001b[0;34m[\u001b[0m\u001b[0mi\u001b[0m\u001b[0;34m,\u001b[0m\u001b[0mj\u001b[0m\u001b[0;34m]\u001b[0m\u001b[0;34m)\u001b[0m\u001b[0;34m<=\u001b[0m\u001b[0mthetah\u001b[0m\u001b[0;34m)\u001b[0m\u001b[0;34m)\u001b[0m \u001b[0;34m:\u001b[0m\u001b[0;34m\u001b[0m\u001b[0;34m\u001b[0m\u001b[0m\n\u001b[0m\u001b[1;32m     27\u001b[0m             \u001b[0ms\u001b[0m\u001b[0;34m[\u001b[0m\u001b[0mi\u001b[0m\u001b[0;34m,\u001b[0m\u001b[0mj\u001b[0m\u001b[0;34m]\u001b[0m\u001b[0;34m=\u001b[0m\u001b[0;36m1\u001b[0m\u001b[0;34m\u001b[0m\u001b[0;34m\u001b[0m\u001b[0m\n\u001b[1;32m     28\u001b[0m         \u001b[0;32melse\u001b[0m\u001b[0;34m:\u001b[0m\u001b[0;34m\u001b[0m\u001b[0;34m\u001b[0m\u001b[0m\n",
      "\u001b[0;31mKeyboardInterrupt\u001b[0m: "
     ]
    }
   ],
   "source": [
    "path1 = \"/home/user/Downloads/DAY2/SET7/\"    \n",
    "path2 = \"/home/user/Downloads/DAY2/SET7OUT/\"   \n",
    "listing = os.listdir(path1)    \n",
    "for file in listing:\n",
    "    img = cv2.imread(path1+file)\n",
    "    outfile= path2+file\n",
    "    img = cv2.cvtColor(img, cv2.COLOR_BGR2RGB)\n",
    "    image=img\n",
    "    \n",
    "    #plt.subplot(231)\n",
    "    #plt.imshow(image, cmap = 'gray')\n",
    "    img = cv2.cvtColor(img, cv2.COLOR_RGB2HSV)\n",
    "    H, S, V = cv2.split(img)\n",
    "    V = np.float32(V)/255\n",
    "    S = np.float32(S)/255\n",
    "    H = np.float32(H)/255\n",
    "    \n",
    "    s= V.copy()\n",
    "    for i in range(H.shape[0]):\n",
    "        for j in range(H.shape[1]):\n",
    "            try:\n",
    "                x= V[i,j]/ BV[i,j]\n",
    "            except ZeroDivisionError:\n",
    "                x = 0\n",
    "        \n",
    "        if ( (alpha1 <= x <= beta1) and (abs(S[i,j]-BS[i,j])<= thetas) and (abs(H[i,j]-BH[i,j])<=thetah)) :\n",
    "            s[i,j]=1\n",
    "        else:\n",
    "            s[i,j]=0\n",
    "            \n",
    "    s=s*255\n",
    "   \n",
    "    s = np.array(s,dtype=np.uint8)\n",
    "    #plt.subplot(232)\n",
    "    plt.imshow(s, cmap = 'gray')\n",
    "    median = cv2.medianBlur(s, 5)\n",
    "    closing = cv2.morphologyEx(median, cv2.MORPH_CLOSE, kernel)\n",
    "    opening = cv2.morphologyEx(closing, cv2.MORPH_OPEN, kernel)\n",
    "    opening = np.array(opening,dtype=np.uint8)\n",
    "    #plt.subplot(233)\n",
    "    plt.imshow(opening, cmap = 'gray')\n",
    "   \n",
    "    result = image.copy()\n",
    "    height=result.shape[0]\n",
    "    width=result.shape[1]\n",
    "    blank_image = np.zeros((height,width,3), np.uint8)\n",
    "    blank_image[opening!=0] = image[opening!=0]\n",
    "    #plt.subplot(234)\n",
    "    plt.imshow(blank_image, cmap = 'gray')\n",
    "    blank_image1=np.uint8(np.double(blank_image)*1.2 + 5)\n",
    "    #plt.subplot(235)\n",
    "    plt.imshow(blank_image1, cmap = 'gray')\n",
    "    claheimg = np.zeros((height,width,3), np.uint8)\n",
    "    claheimg[opening==0]=image[opening==0]\n",
    "    clahe = cv2.createCLAHE(clipLimit=9.0,tileGridSize=(5, 5))\n",
    "\n",
    "    claheimg[:,:,0] = clahe.apply(blank_image1[:,:,0])\n",
    "    claheimg[:,:,1] = clahe.apply(blank_image1[:,:,1])\n",
    "    claheimg[:,:,2] = clahe.apply(blank_image1[:,:,2])\n",
    "    cv2.imwrite(outfile,claheimg)"
   ]
  },
  {
   "cell_type": "code",
   "execution_count": null,
   "metadata": {},
   "outputs": [],
   "source": []
  }
 ],
 "metadata": {
  "kernelspec": {
   "display_name": "Python 3",
   "language": "python",
   "name": "python3"
  },
  "language_info": {
   "codemirror_mode": {
    "name": "ipython",
    "version": 3
   },
   "file_extension": ".py",
   "mimetype": "text/x-python",
   "name": "python",
   "nbconvert_exporter": "python",
   "pygments_lexer": "ipython3",
   "version": "3.7.3"
  }
 },
 "nbformat": 4,
 "nbformat_minor": 2
}
