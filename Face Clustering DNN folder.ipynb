{
 "cells": [
  {
   "cell_type": "code",
   "execution_count": 1,
   "metadata": {},
   "outputs": [],
   "source": [
    "from imutils import paths\n",
    "import face_recognition\n",
    "import argparse\n",
    "import pickle\n",
    "import cv2\n",
    "import os\n",
    " "
   ]
  },
  {
   "cell_type": "code",
   "execution_count": null,
   "metadata": {},
   "outputs": [],
   "source": [
    "# grab the paths to the input images in our dataset, then initialize\n",
    "# out data list (which we'll soon populate)\n",
    "print(\"[INFO] quantifying faces...\")\n",
    "imagePaths = list(paths.list_images(\"./face-clustering/dataset\"))\n",
    "#imagePaths = list(paths.list_images(args[\"dataset\"]))\n",
    "data = []"
   ]
  },
  {
   "cell_type": "code",
   "execution_count": null,
   "metadata": {},
   "outputs": [],
   "source": [
    "# loop over the image paths\n",
    "for (i, imagePath) in enumerate(imagePaths):\n",
    "\t# load the input image and convert it from RGB (OpenCV ordering)\n",
    "\t# to dlib ordering (RGB)\n",
    "\tprint(\"[INFO] processing image {}/{}\".format(i + 1,len(imagePaths)))\n",
    "\tprint(imagePath)\n",
    "\timage = cv2.imread(imagePath)\n",
    "\trgb = cv2.cvtColor(image, cv2.COLOR_BGR2RGB)\n",
    "    \t# detect the (x, y)-coordinates of the bounding boxes\n",
    "\t# corresponding to each face in the input image\n",
    "\tboxes = face_recognition.face_locations(rgb,model=\"hog\")\n",
    "\t# compute the facial embedding for the face\n",
    "\tencodings = face_recognition.face_encodings(rgb, boxes)\n",
    " \n",
    "\t# build a dictionary of the image path, bounding box location,\n",
    "\t# and facial encodings for the current image\n",
    "\td = [{\"imagePath\": imagePath, \"loc\": box, \"encoding\": enc}\n",
    "\t\tfor (box, enc) in zip(boxes, encodings)]\n",
    "\tdata.extend(d)\n",
    "\n",
    "# dump the facial encodings data to disk\n",
    "print(\"[INFO] serializing encodings...\")\n",
    "f = open(\"encodings\", \"wb\")\n",
    "f.write(pickle.dumps(data))\n",
    "f.close()"
   ]
  },
  {
   "cell_type": "code",
   "execution_count": 2,
   "metadata": {},
   "outputs": [],
   "source": [
    "# import the necessary packages\n",
    "from sklearn.cluster import DBSCAN\n",
    "from imutils import build_montages\n",
    "import numpy as np\n",
    "import pickle\n",
    "import cv2"
   ]
  },
  {
   "cell_type": "code",
   "execution_count": 3,
   "metadata": {},
   "outputs": [
    {
     "name": "stdout",
     "output_type": "stream",
     "text": [
      "[INFO] loading encodings...\n"
     ]
    }
   ],
   "source": [
    "# load the serialized face encodings + bounding box locations from\n",
    "# disk, then extract the set of encodings to so we can cluster on\n",
    "# them\n",
    "print(\"[INFO] loading encodings...\")\n",
    "data = pickle.loads(open(\"encodings\", \"rb\").read())\n",
    "data = np.array(data)\n",
    "encodings = [d[\"encoding\"] for d in data]"
   ]
  },
  {
   "cell_type": "code",
   "execution_count": 4,
   "metadata": {},
   "outputs": [
    {
     "name": "stdout",
     "output_type": "stream",
     "text": [
      "[INFO] clustering...\n",
      "[INFO] # unique faces: 4\n"
     ]
    }
   ],
   "source": [
    "# cluster the embeddings\n",
    "print(\"[INFO] clustering...\")\n",
    "clt = DBSCAN(metric=\"euclidean\")\n",
    "clt.fit(encodings)\n",
    " \n",
    "# determine the total number of unique faces found in the dataset\n",
    "labelIDs = np.unique(clt.labels_)\n",
    "numUniqueFaces = len(np.where(labelIDs > -1)[0])\n",
    "print(\"[INFO] # unique faces: {}\".format(numUniqueFaces))"
   ]
  },
  {
   "cell_type": "code",
   "execution_count": 5,
   "metadata": {},
   "outputs": [
    {
     "name": "stdout",
     "output_type": "stream",
     "text": [
      "[INFO] faces for face ID: -1\n",
      "[INFO] faces for face ID: 0\n",
      "[INFO] faces for face ID: 1\n",
      "[INFO] faces for face ID: 2\n",
      "[INFO] faces for face ID: 3\n"
     ]
    }
   ],
   "source": [
    "import os\n",
    "# loop over the unique face integers\n",
    "for labelID in labelIDs:\n",
    "\t# find all indexes into the `data` array that belong to the\n",
    "\t# current label ID, then randomly sample a maximum of 25 indexes\n",
    "\t# from the set\n",
    "\tprint(\"[INFO] faces for face ID: {}\".format(labelID))\n",
    "\tidxs = np.where(clt.labels_ == labelID)[0]\n",
    "\tidxs = np.random.choice(idxs, size=min(25, len(idxs)),\n",
    "\t\treplace=False)\n",
    " \n",
    "\t# initialize the list of faces to include in the montage\n",
    "\tfaces = []\n",
    "    \t# loop over the sampled indexes\n",
    "\tfor i in idxs:\n",
    "\t\t# load the input image and extract the face ROI\n",
    "\t\timage = cv2.imread(data[i][\"imagePath\"])\n",
    "\t\t(top, right, bottom, left) = data[i][\"loc\"]\n",
    "\t\tface = image[top:bottom, left:right]\n",
    " \n",
    "\t\t# force resize the face ROI to 96x96 and then add it to the\n",
    "\t\t# faces montage list\n",
    "\t\tface = cv2.resize(face, (128, 128))\n",
    "\t\trequest_number = labelID if labelID != -1 else \"Unknown\"\n",
    "        # base dir\n",
    "\t\t_dir = \"./face-clustering/dataset\"\n",
    "\t\t\n",
    "\n",
    "        # create dynamic name, like \"D:\\Current Download\\Attachment82673\"\n",
    "\t\t_dir = os.path.join(_dir, 'Person%s' % request_number)\n",
    "\n",
    "        # create 'dynamic' dir, if it does not exist\n",
    "\t\tif not os.path.exists(_dir):\n",
    "\t\t\tos.makedirs(_dir)\n",
    "\t\tfile_name = _dir + \"/\"+str(i)+\".jpg\"\n",
    "\t\tcv2.imwrite(file_name, face)\n",
    "\t\t\n",
    "\t#cv2.destroyAllWindows()    \n",
    "\n",
    "\n",
    "      "
   ]
  },
  {
   "cell_type": "code",
   "execution_count": 8,
   "metadata": {},
   "outputs": [],
   "source": [
    "cv2.destroyAllWindows()"
   ]
  },
  {
   "cell_type": "code",
   "execution_count": 10,
   "metadata": {},
   "outputs": [
    {
     "name": "stdout",
     "output_type": "stream",
     "text": [
      "./face-clustering/dataset/00000049.jpg\n"
     ]
    }
   ],
   "source": [
    "print(_dir)"
   ]
  },
  {
   "cell_type": "code",
   "execution_count": 11,
   "metadata": {},
   "outputs": [
    {
     "name": "stdout",
     "output_type": "stream",
     "text": [
      "<class 'str'>\n"
     ]
    }
   ],
   "source": [
    "print(type(_dir))"
   ]
  },
  {
   "cell_type": "code",
   "execution_count": null,
   "metadata": {},
   "outputs": [],
   "source": []
  }
 ],
 "metadata": {
  "kernelspec": {
   "display_name": "Python 3",
   "language": "python",
   "name": "python3"
  },
  "language_info": {
   "codemirror_mode": {
    "name": "ipython",
    "version": 3
   },
   "file_extension": ".py",
   "mimetype": "text/x-python",
   "name": "python",
   "nbconvert_exporter": "python",
   "pygments_lexer": "ipython3",
   "version": "3.7.3"
  }
 },
 "nbformat": 4,
 "nbformat_minor": 2
}
